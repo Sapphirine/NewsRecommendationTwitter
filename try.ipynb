{
 "cells": [
  {
   "cell_type": "code",
   "execution_count": 229,
   "metadata": {},
   "outputs": [],
   "source": [
    "import numpy as np\n",
    "import csv\n",
    "import pandas as pd\n",
    "np.random.seed(1337)\n",
    "from sklearn import model_selection\n",
    "from sklearn.cross_validation import train_test_split\n",
    "from sklearn.metrics import accuracy_score\n",
    "import keras\n",
    "from keras.models import Sequential\n",
    "from keras.layers import Dense, Dropout, Flatten\n",
    "from keras.layers import Convolution2D, MaxPooling2D\n",
    "from keras import backend as K\n",
    "from keras.utils import np_utils\n",
    "from keras.optimizers import RMSprop\n",
    "from keras.layers.core import Dense, Dropout, Activation\n",
    "from keras.preprocessing.image import ImageDataGenerator\n",
    "from keras.layers.normalization import BatchNormalization\n",
    "import json\n",
    "import keras.preprocessing.text as kpt\n",
    "from keras.preprocessing.text import Tokenizer\n",
    "from keras.models import model_from_json\n",
    "from keras.preprocessing.sequence import pad_sequences\n",
    "import re\n",
    "import itertools\n",
    "from collections import Counter\n",
    "from keras.preprocessing import sequence\n",
    "from keras.models import Sequential\n",
    "from keras.layers.core import Dense, Activation, Flatten\n",
    "from keras.layers.wrappers import TimeDistributed\n",
    "from keras.layers.embeddings import Embedding\n",
    "from keras.layers.recurrent import LSTM\n",
    "from nltk.corpus import stopwords\n",
    "from nltk.tokenize import word_tokenize\n",
    "from nltk.stem import WordNetLemmatizer\n",
    "import nltk\n",
    "import matplotlib.pyplot as plt"
   ]
  },
  {
   "cell_type": "code",
   "execution_count": 133,
   "metadata": {
    "collapsed": true
   },
   "outputs": [],
   "source": [
    "data=pd.read_csv('compiledData.csv')"
   ]
  },
  {
   "cell_type": "code",
   "execution_count": 231,
   "metadata": {},
   "outputs": [
    {
     "data": {
      "image/png": "[encoded data removed]",
      "text/plain": [
       "<matplotlib.figure.Figure at 0x13109b750>"
      ]
     },
     "metadata": {},
     "output_type": "display_data"
    }
   ],
   "source": [
    "fig = plt.figure(figsize=(8,6))\n",
    "data.groupby('label').processedText.count().plot.bar(ylim=0)\n",
    "plt.show()"
   ]
  },
  {
   "cell_type": "code",
   "execution_count": 134,
   "metadata": {
    "collapsed": true
   },
   "outputs": [],
   "source": [
    "def clean_str(string):\n",
    "    string = re.sub(r\"https\\\\S*\", \"\", string)\n",
    "    string = re.sub(r\"#\", \"\", string)\n",
    "    string = re.sub(r\"@\\\\S*\", \"\", string)\n",
    "    string = re.sub(r\"\\\\n\", \"\", string)\n",
    "    string = re.sub(r\"[^a-zA-Z0-9]+'[^a-zA-Z0-9]+\", \"\", string)\n",
    "    string = re.sub(r\"[^[:alnum:][:space:]'']\", \"\", string)\n",
    "    return string.strip().lower()"
   ]
  },
  {
   "cell_type": "code",
   "execution_count": 135,
   "metadata": {
    "collapsed": true
   },
   "outputs": [],
   "source": [
    "X_train, X_test, y_train, y_test = train_test_split(data.processedText, data.label, test_size=0.1, random_state=42)"
   ]
  },
  {
   "cell_type": "code",
   "execution_count": 190,
   "metadata": {},
   "outputs": [],
   "source": [
    "# Convert X_train from text to data matrix\n",
    "max_words = 3000\n",
    "tokenizer = Tokenizer(num_words=max_words)\n",
    "X_train= [clean_str(str(sent)) for sent in X_train]\n",
    "tokenizer.fit_on_texts(X_train)\n",
    "dictionary = tokenizer.word_index"
   ]
  },
  {
   "cell_type": "code",
   "execution_count": 191,
   "metadata": {
    "collapsed": true
   },
   "outputs": [],
   "source": [
    "def convert_text_to_index_array(text):                                                                                                                                                                                                                                                                                                             \n",
    "    # one really important thing that `text_to_word_sequence` does\n",
    "    # is make all texts the same length -- in this case, the length\n",
    "    # of the longest text in the set.\n",
    "    return [dictionary[word] for word in kpt.text_to_word_sequence(text)]"
   ]
  },
  {
   "cell_type": "code",
   "execution_count": 192,
   "metadata": {
    "collapsed": true
   },
   "outputs": [],
   "source": [
    "allWordIndices = []\n",
    "# for each tweet, change each token to its ID in the Tokenizer's word_index\n",
    "for text in X_train:\n",
    "    wordIndices = convert_text_to_index_array(text)\n",
    "    allWordIndices.append(wordIndices)\n",
    "\n",
    "# now we have a list of all tweets converted to index arrays.\n",
    "# cast as an array for future usage.\n",
    "allWordIndices = np.asarray(allWordIndices)\n",
    "train_x = tokenizer.sequences_to_matrix(allWordIndices)"
   ]
  },
  {
   "cell_type": "code",
   "execution_count": 193,
   "metadata": {
    "collapsed": true
   },
   "outputs": [],
   "source": [
    "# Convert X_test from text to data matrix\n",
    "X_test= [clean_str(str(sent)) for sent in X_test]\n",
    "tokenizer.fit_on_texts(X_test)\n",
    "dictionary = tokenizer.word_index\n",
    "allWordIndices_test = []\n",
    "# for each tweet, change each token to its ID in the Tokenizer's word_index\n",
    "for text in X_test:\n",
    "    wordIndices = convert_text_to_index_array(text)\n",
    "    allWordIndices_test.append(wordIndices)\n",
    "\n",
    "# now we have a list of all tweets converted to index arrays.\n",
    "# cast as an array for future usage.\n",
    "allWordIndices_test = np.asarray(allWordIndices_test)\n",
    "test_x = tokenizer.sequences_to_matrix(allWordIndices_test)"
   ]
  },
  {
   "cell_type": "code",
   "execution_count": 194,
   "metadata": {
    "collapsed": true
   },
   "outputs": [],
   "source": [
    "# Convert y to categorical data matrix\n",
    "num_class=len(np.unique(y_train))\n",
    "y_train_cat=y_train.factorize()[0]\n",
    "train_y = keras.utils.to_categorical(y_train_cat, num_class)\n",
    "y_test_cat=y_test.factorize()[0]\n",
    "test_y = keras.utils.to_categorical(y_test_cat, num_class)"
   ]
  },
  {
   "cell_type": "code",
   "execution_count": 222,
   "metadata": {
    "collapsed": true
   },
   "outputs": [],
   "source": [
    "model=Sequential() "
   ]
  },
  {
   "cell_type": "code",
   "execution_count": 223,
   "metadata": {},
   "outputs": [],
   "source": [
    "model.add(Embedding(3, 10, input_length=train_x.shape[1])) \n",
    "model.add(Flatten())\n",
    "model.add(Dropout(0.5))\n",
    "model.add(Dropout(0.5))\n",
    "model.add(Dropout(0.5))\n",
    "model.add(Dense(num_class, activation='sigmoid')) \n",
    "model.compile(loss='binary_crossentropy', optimizer='rmsprop', metrics=['accuracy'])"
   ]
  },
  {
   "cell_type": "code",
   "execution_count": 224,
   "metadata": {},
   "outputs": [
    {
     "name": "stdout",
     "output_type": "stream",
     "text": [
      "Train on 130098 samples, validate on 130098 samples\n",
      "Epoch 1/10\n",
      "130098/130098 [==============================] - 130s 1ms/step - loss: 0.3281 - acc: 0.8773 - val_loss: 0.2496 - val_acc: 0.9060\n",
      "Epoch 2/10\n",
      "130098/130098 [==============================] - 118s 907us/step - loss: 0.2749 - acc: 0.9017 - val_loss: 0.2442 - val_acc: 0.9072\n",
      "Epoch 3/10\n",
      "130098/130098 [==============================] - 120s 919us/step - loss: 0.2720 - acc: 0.9031 - val_loss: 0.2430 - val_acc: 0.9079\n",
      "Epoch 4/10\n",
      "130098/130098 [==============================] - 118s 911us/step - loss: 0.2707 - acc: 0.9037 - val_loss: 0.2417 - val_acc: 0.9086\n",
      "Epoch 5/10\n",
      "130098/130098 [==============================] - 125s 961us/step - loss: 0.2698 - acc: 0.9043 - val_loss: 0.2415 - val_acc: 0.9146\n",
      "Epoch 6/10\n",
      "130098/130098 [==============================] - 193s 1ms/step - loss: 0.2688 - acc: 0.9045 - val_loss: 0.2594 - val_acc: 0.8991\n",
      "Epoch 7/10\n",
      "130098/130098 [==============================] - 199s 2ms/step - loss: 0.2685 - acc: 0.9047 - val_loss: 0.2393 - val_acc: 0.9117\n",
      "Epoch 8/10\n",
      "130098/130098 [==============================] - 190s 1ms/step - loss: 0.2677 - acc: 0.9050 - val_loss: 0.2392 - val_acc: 0.9137\n",
      "Epoch 9/10\n",
      "130098/130098 [==============================] - 180s 1ms/step - loss: 0.2665 - acc: 0.9057 - val_loss: 0.2496 - val_acc: 0.9028\n",
      "Epoch 10/10\n",
      "130098/130098 [==============================] - 182s 1ms/step - loss: 0.2669 - acc: 0.9052 - val_loss: 0.2376 - val_acc: 0.9121\n"
     ]
    }
   ],
   "source": [
    "res=model.fit(train_x, train_y,batch_size=152,epochs=10,validation_split=0.5,shuffle=True)"
   ]
  },
  {
   "cell_type": "code",
   "execution_count": 225,
   "metadata": {},
   "outputs": [
    {
     "name": "stdout",
     "output_type": "stream",
     "text": [
      "28911/28911 [==============================] - 7s 243us/step\n"
     ]
    },
    {
     "data": {
      "text/plain": [
       "0.8351591446614018"
      ]
     },
     "execution_count": 225,
     "metadata": {},
     "output_type": "execute_result"
    }
   ],
   "source": [
    "res_test=model.evaluate(test_x,test_y)\n",
    "res_test[1]"
   ]
  },
  {
   "cell_type": "code",
   "execution_count": 230,
   "metadata": {},
   "outputs": [
    {
     "data": {
      "image/png": "[encoded data removed]",
      "text/plain": [
       "<matplotlib.figure.Figure at 0x153167c90>"
      ]
     },
     "metadata": {},
     "output_type": "display_data"
    },
    {
     "data": {
      "image/png": "[encoded data removed]",
      "text/plain": [
       "<matplotlib.figure.Figure at 0x153f82d90>"
      ]
     },
     "metadata": {},
     "output_type": "display_data"
    }
   ],
   "source": [
    "acc = res.history['acc']\n",
    "val_acc = res.history['val_acc']\n",
    "loss = res.history['loss']\n",
    "val_loss = res.history['val_loss']\n",
    "epochs = range(len(acc))\n",
    "plt.plot(epochs, acc, 'bo', label='Training acc')\n",
    "plt.plot(epochs, val_acc, 'b', label='Validation acc')\n",
    "plt.title('Training and validation accuracy')\n",
    "plt.legend()\n",
    "plt.figure()\n",
    "plt.plot(epochs, loss, 'bo', label='Training loss')\n",
    "plt.plot(epochs, val_loss, 'b', label='Validation loss')\n",
    "plt.title('Training and validation loss')\n",
    "plt.legend()\n",
    "plt.show()"
   ]
  },
  {
   "cell_type": "code",
   "execution_count": null,
   "metadata": {
    "collapsed": true
   },
   "outputs": [],
   "source": []
  }
 ],
 "metadata": {
  "kernelspec": {
   "display_name": "Python 2",
   "language": "python",
   "name": "python2"
  },
  "language_info": {
   "codemirror_mode": {
    "name": "ipython",
    "version": 2
   },
   "file_extension": ".py",
   "mimetype": "text/x-python",
   "name": "python",
   "nbconvert_exporter": "python",
   "pygments_lexer": "ipython2",
   "version": "2.7.13"
  }
 },
 "nbformat": 4,
 "nbformat_minor": 2
}
